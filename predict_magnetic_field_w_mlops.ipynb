{
 "cells": [
  {
   "cell_type": "markdown",
   "id": "e88014fc",
   "metadata": {},
   "source": [
    "# Predicting the intensity of the magnetic field experienced by satellites in Earth orbit"
   ]
  },
  {
   "cell_type": "markdown",
   "id": "695b3e07",
   "metadata": {},
   "source": [
    "## Objective\n",
    "\n",
    "To determine if the magnetic field experienced by satellites can be predicted from their altitude from Earth."
   ]
  },
  {
   "cell_type": "markdown",
   "id": "fcc803cb",
   "metadata": {},
   "source": [
    "## Hypothesis\n",
    "\n",
    "We can reasonably assume that the magnetic field will be less intense as the altitude increases.  However, because the Earth's geomagnetic field is not perfectly spherical but instead in the shape of a dipole, with anomalies and distortions from the pressure of the interplanetary magnetic field, the relationship between these two attributes might not be easily modeled."
   ]
  },
  {
   "cell_type": "markdown",
   "id": "a8a53c32",
   "metadata": {},
   "source": [
    "## Dataset\n",
    "\n",
    "MOST-268_HD209458_2014-268_HD209458_2014\n",
    "\n",
    "A .tar file containing .fits files compressed as .tar files.\n",
    "\n",
    "This dataset is available online: https://www.cadc-ccda.hia-iha.nrc-cnrc.gc.ca/en/search/?Plane.position.bounds@Shape1Resolver.value=ALL&Observation.collection=MOST&Observation.instrument.name=Direct%20image&Observation.type=object#sortCol=caom2%3APlane.time.bounds.lower&sortDir=dsc&col_1=_checkbox_selector;;;&col_2=caom2%3AObservation.uri;;;&col_3=caom2%3APlane.productID;;;&col_4=caom2%3AObservation.target.name;;;&col_5=caom2%3APlane.position.bounds.cval1;;;&col_6=caom2%3APlane.position.bounds.cval2;;;&col_7=caom2%3APlane.time.bounds.lower;;;&col_8=caom2%3AObservation.instrument.name;;;&col_9=caom2%3APlane.time.exposure;;;&col_10=caom2%3AObservation.proposal.pi;;;&col_11=caom2%3AObservation.proposal.id;;;&col_12=caom2%3APlane.calibrationLevel;;;&col_13=caom2%3AObservation.observationID;;;\n",
    "\n",
    "The data was recorded by the MOST satellite: http://www.asc-csa.gc.ca/fra/satellites/most/default.asp"
   ]
  },
  {
   "cell_type": "markdown",
   "id": "a228697c",
   "metadata": {},
   "source": [
    "### Data Collection"
   ]
  },
  {
   "cell_type": "code",
   "execution_count": null,
   "id": "0ba247f6",
   "metadata": {},
   "outputs": [],
   "source": [
    "from cadcdata import StorageInventoryClient\n",
    "client = StorageInventoryClient()\n",
    "\n",
    "# test connection\n",
    "print(client.cadcinfo(\"MOST/261_GSC0041702592_2014_5261.tar\"))"
   ]
  },
  {
   "cell_type": "code",
   "execution_count": null,
   "id": "cb48a700",
   "metadata": {},
   "outputs": [],
   "source": [
    "# download data as *.tar files\n",
    "\n",
    "# download one file only for tests\n",
    "# client.cadcget(\"MOST/261_GSC0041702592_2014_5261.tar\", \"./datasets/most/\")\n",
    "\n",
    "# download a list of files from a web search\n",
    "with open(\"./datasets/most/cadcUrlList_test.txt\", \"r\") as to_download:\n",
    "    for row in to_download:\n",
    "        f = row.split(\"cadc:\")[1]\n",
    "        client.cadcget(f, \"./datasets/most/\")"
   ]
  },
  {
   "cell_type": "code",
   "execution_count": null,
   "id": "91c610dc",
   "metadata": {},
   "outputs": [],
   "source": [
    "import os\n",
    "import tarfile\n",
    "\n",
    "import pandas as pd\n",
    "from astropy.io import fits\n",
    "\n",
    "\n",
    "df_list = list()\n",
    "df = pd.DataFrame(\n",
    "    columns=[\n",
    "        \"[DEGREES] LONGITUDE OF SATELLITE\",\n",
    "        \"[DEGREES] LATITUDE OF SATELLITE\",\n",
    "        \"[M] ALTITUDE OF SATELLITE\",\n",
    "        \"[DEGREES] ANGLE TO EARTH LIMB\",\n",
    "        \"[DEGREES] NADIR RIGHT ASCENSION\",\n",
    "        \"[DEGREES] NADIR DECLINATION\",\n",
    "        \"[DEGREES] NADIR LONGITUDE\",\n",
    "        \"[DEGREES] NADIR LATITUDE\",\n",
    "        \"[DEGREES] SOLAR RIGHT ASCENSION\",\n",
    "        \"[DEGREES] SOLAR DECLINATION\",\n",
    "        \"[DEGREES] SOLAR ALTITUDE\",\n",
    "        \"[DEGREES] SOLAR AZIMUTH\",\n",
    "        \"[DEGREES] SOLAR LONGITUDE\",\n",
    "        \"[DEGREES] SOLAR LATITUDE\",\n",
    "        \"[DEGREES] LUNAR RIGHT ASCENSION\",\n",
    "        \"[DEGREES] LUNAR DECLINATION\",\n",
    "        \"[DEGREES] LUNAR ALTITUDE\",\n",
    "        \"[DEGREES] LUNAR AZIMUTH\",\n",
    "        \"[DEGREES] LUNAR LONGITUDE\",\n",
    "        \"[DEGREES] LUNAR LATITUDE\",\n",
    "        \"[DEGREES] LUNAR-TARGET ANGULAR SEPERATION\",\n",
    "        \"[nT] MAGNETIC FIELD STRENGTH\",\n",
    "    ]\n",
    ")\n",
    "\n",
    "\n",
    "for root, dirs, files in os.walk(\"./datasets/most/\"):\n",
    "    for f in files:\n",
    "        \n",
    "        # for every .tar file in the datasets directory\n",
    "        if os.path.splitext(f)[1] == \".tar\":\n",
    "\n",
    "            with tarfile.open(\n",
    "                name=os.path.join(root, f),\n",
    "                mode=\"r\"\n",
    "            ) as tar_obj:\n",
    "\n",
    "                # for every file in the tar file\n",
    "                for member in tar_obj.getnames():\n",
    "                    if os.path.splitext(member)[1] == \".fits\":\n",
    "\n",
    "                        # extract .tar file in memory\n",
    "                        extracted = tar_obj.extractfile(member)\n",
    "\n",
    "                        # open extracted .fits file\n",
    "                        with fits.open(extracted) as hdul:\n",
    "                            hdr = hdul[0].header\n",
    "                            data_dct = {\n",
    "                                \"[DEGREES] LONGITUDE OF SATELLITE\": hdr[\"SAT_LONG\"],\n",
    "                                \"[DEGREES] LATITUDE OF SATELLITE\": hdr[\"SAT_LAT\"],\n",
    "                                \"[M] ALTITUDE OF SATELLITE\": hdr[\"SAT_ALT\"],\n",
    "                                \"[DEGREES] ANGLE TO EARTH LIMB\": hdr[\"ELA_ANG\"],\n",
    "                                \"[DEGREES] NADIR RIGHT ASCENSION\": hdr[\"NAD_RA\"],\n",
    "                                \"[DEGREES] NADIR DECLINATION\": hdr[\"NAD_DEC\"],\n",
    "                                \"[DEGREES] NADIR LONGITUDE\": hdr[\"NAD_PHI\"],\n",
    "                                \"[DEGREES] NADIR LATITUDE\": hdr[\"NAD_THET\"],\n",
    "                                \"[DEGREES] SOLAR RIGHT ASCENSION\": hdr[\"SOL_RA\"],\n",
    "                                \"[DEGREES] SOLAR DECLINATION\": hdr[\"SOL_DEC\"],\n",
    "                                \"[DEGREES] SOLAR ALTITUDE\": [\"SOL_ALTI\"],\n",
    "                                \"[DEGREES] SOLAR AZIMUTH\": [\"SOL_AZIM\"],\n",
    "                                \"[DEGREES] SOLAR LONGITUDE\": [\"SOL_PHI\"],\n",
    "                                \"[DEGREES] SOLAR LATITUDE\": hdr[\"SOL_THET\"],\n",
    "                                \"[DEGREES] LUNAR RIGHT ASCENSION\": hdr[\"LUN_RA\"],\n",
    "                                \"[DEGREES] LUNAR DECLINATION\": hdr[\"LUN_DEC\"],\n",
    "                                \"[DEGREES] LUNAR ALTITUDE\": hdr[\"LUN_ALTI\"],\n",
    "                                \"[DEGREES] LUNAR AZIMUTH\": hdr[\"LUN_AZIM\"],\n",
    "                                \"[DEGREES] LUNAR LONGITUDE\": hdr[\"LUN_PHI\"],\n",
    "                                \"[DEGREES] LUNAR LATITUDE\": hdr[\"LUN_THET\"],\n",
    "                                \"[DEGREES] LUNAR-TARGET ANGULAR SEPERATION\": hdr[\"LUN_SEP\"],\n",
    "                                \"[nT] MAGNETIC FIELD STRENGTH\": hdr[\"MAG_FLD\"],\n",
    "                            }\n",
    "                            df_partial = pd.DataFrame(data_dct)\n",
    "                            df_list.append(df_partial)"
   ]
  },
  {
   "cell_type": "code",
   "execution_count": null,
   "id": "e4c93272",
   "metadata": {},
   "outputs": [],
   "source": [
    "df_source = pd.concat(df_list, ignore_index=True)"
   ]
  },
  {
   "cell_type": "markdown",
   "id": "7d59d128",
   "metadata": {},
   "source": [
    "### Exploratory Data Analysis"
   ]
  },
  {
   "cell_type": "code",
   "execution_count": null,
   "id": "f4e518b1",
   "metadata": {},
   "outputs": [],
   "source": [
    "df_source.head()"
   ]
  },
  {
   "cell_type": "code",
   "execution_count": null,
   "id": "ccb72798",
   "metadata": {},
   "outputs": [],
   "source": [
    "df_source.tail()"
   ]
  },
  {
   "cell_type": "code",
   "execution_count": null,
   "id": "7bb4978b",
   "metadata": {},
   "outputs": [],
   "source": [
    "df_source.info()"
   ]
  },
  {
   "cell_type": "code",
   "execution_count": null,
   "id": "0d482a8d",
   "metadata": {},
   "outputs": [],
   "source": [
    "df_source.describe()"
   ]
  },
  {
   "cell_type": "code",
   "execution_count": null,
   "id": "d7487394",
   "metadata": {},
   "outputs": [],
   "source": [
    "# examine cardinality\n",
    "\n",
    "df_source.nunique()"
   ]
  },
  {
   "cell_type": "code",
   "execution_count": null,
   "id": "b4e30bdb",
   "metadata": {},
   "outputs": [],
   "source": [
    "df_source.isna().sum()"
   ]
  },
  {
   "cell_type": "markdown",
   "id": "dccc4ea7",
   "metadata": {},
   "source": [
    "### Data Cleaning and Pre-Processing"
   ]
  },
  {
   "cell_type": "code",
   "execution_count": null,
   "id": "77ed4fcc",
   "metadata": {},
   "outputs": [],
   "source": [
    "# impute missing values\n",
    "from sklearn.impute import SimpleImputer\n",
    "\n",
    "my_imputer = SimpleImputer(strategy=\"most_frequent\", add_indicator=True, copy=True)\n",
    "df_unscaled = pd.DataFrame(my_imputer.fit_transform(df_source))"
   ]
  },
  {
   "cell_type": "code",
   "execution_count": null,
   "id": "ba35980f",
   "metadata": {},
   "outputs": [],
   "source": [
    "df_unscaled.columns = df_source.columns\n",
    "df_unscaled.head()"
   ]
  },
  {
   "cell_type": "code",
   "execution_count": null,
   "id": "13ddbf8d",
   "metadata": {},
   "outputs": [],
   "source": [
    "# change tabular into numeric\n",
    "\n",
    "\n",
    "from category_encoders import OneHotEncoder\n",
    "import numpy as np\n",
    "\n",
    "encoder = OneHotEncoder(\n",
    "    cols=[\n",
    "        \"[DEGREES] SOLAR ALTITUDE\",\n",
    "        \"[DEGREES] SOLAR AZIMUTH\",\n",
    "        \"[DEGREES] SOLAR LONGITUDE\",\n",
    "    ],\n",
    "    handle_unknown='return_nan',\n",
    "    return_df=True,\n",
    "    use_cat_names=True,\n",
    ")\n",
    "\n",
    "df_unscaled_numeric = encoder.fit_transform(df_unscaled)\n",
    "df = df_unscaled_numeric.astype(np.float64)"
   ]
  },
  {
   "cell_type": "code",
   "execution_count": null,
   "id": "3de14a82",
   "metadata": {},
   "outputs": [],
   "source": [
    "# data normalization - https://datascience.stackexchange.com/a/13575\n",
    "\n",
    "#from sklearn import preprocessing\n",
    "\n",
    "#scaler = preprocessing.StandardScaler()\n",
    "#df = pd.DataFrame(\n",
    "#    scaler.fit_transform(df_unscaled_numeric_dtypes), \n",
    "#    columns=df_unscaled_numeric_dtypes.columns\n",
    "#)"
   ]
  },
  {
   "cell_type": "code",
   "execution_count": null,
   "id": "45d6346f",
   "metadata": {},
   "outputs": [],
   "source": [
    "df.info()"
   ]
  },
  {
   "cell_type": "code",
   "execution_count": null,
   "id": "11410a48",
   "metadata": {},
   "outputs": [],
   "source": [
    "df.head()"
   ]
  },
  {
   "cell_type": "markdown",
   "id": "d84c6cbd",
   "metadata": {},
   "source": [
    "### Baseline Model training and validation"
   ]
  },
  {
   "cell_type": "code",
   "execution_count": null,
   "id": "56434841",
   "metadata": {},
   "outputs": [],
   "source": [
    "# Identifier les variables dépendantes et indépendantes\n",
    "df_target = df[\"[nT] MAGNETIC FIELD STRENGTH\"]\n",
    "df_predictors = df.drop([\"[nT] MAGNETIC FIELD STRENGTH\"], axis=1)"
   ]
  },
  {
   "cell_type": "code",
   "execution_count": null,
   "id": "6470fe6c",
   "metadata": {},
   "outputs": [],
   "source": [
    "from sklearn.ensemble import RandomForestRegressor\n",
    "from sklearn.metrics import mean_absolute_error\n",
    "from sklearn.model_selection import train_test_split\n",
    "\n",
    "# Séparer le jeu de données en jeu de donnée d'entraînement et de test\n",
    "X_train, X_test, y_train, y_test = train_test_split(\n",
    "    df_predictors, \n",
    "    df_target,\n",
    "    train_size=0.8, \n",
    "    test_size=0.2, \n",
    "    random_state=10,\n",
    ")"
   ]
  },
  {
   "cell_type": "code",
   "execution_count": null,
   "id": "49d822a4",
   "metadata": {},
   "outputs": [],
   "source": [
    "# Fonction permettant d'évaluer le MAE d'un randomForestRegressor\n",
    "def score_dataset(X_train, X_test, y_train, y_test):\n",
    "    model = RandomForestRegressor()\n",
    "    model.fit(X_train, y_train)\n",
    "    preds = model.predict(X_test)\n",
    "    return mean_absolute_error(y_test, preds)"
   ]
  },
  {
   "cell_type": "code",
   "execution_count": null,
   "id": "19fee5a1",
   "metadata": {},
   "outputs": [],
   "source": []
  },
  {
   "cell_type": "code",
   "execution_count": null,
   "id": "278f6ed9",
   "metadata": {},
   "outputs": [],
   "source": []
  },
  {
   "cell_type": "code",
   "execution_count": null,
   "id": "dfebe22b",
   "metadata": {},
   "outputs": [],
   "source": []
  }
 ],
 "metadata": {
  "kernelspec": {
   "display_name": "Python 3 (ipykernel)",
   "language": "python",
   "name": "python3"
  },
  "language_info": {
   "codemirror_mode": {
    "name": "ipython",
    "version": 3
   },
   "file_extension": ".py",
   "mimetype": "text/x-python",
   "name": "python",
   "nbconvert_exporter": "python",
   "pygments_lexer": "ipython3",
   "version": "3.10.9"
  }
 },
 "nbformat": 4,
 "nbformat_minor": 5
}
